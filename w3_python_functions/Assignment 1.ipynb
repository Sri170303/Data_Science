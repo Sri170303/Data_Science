{
 "cells": [
  {
   "cell_type": "code",
   "execution_count": 1,
   "id": "b1da3067-de29-42c3-b496-fcc5bdce43bc",
   "metadata": {},
   "outputs": [],
   "source": [
    "# def keyword is used to define a function in python\n",
    "\n",
    "def test1(n):\n",
    "    l = []\n",
    "    for i in range(n):\n",
    "        a  = i+1;\n",
    "        if(a%2!=0):\n",
    "            l.append(a)\n",
    "    return l"
   ]
  },
  {
   "cell_type": "code",
   "execution_count": 2,
   "id": "e25ebeb5-9bc9-4199-95c1-79fec21e7254",
   "metadata": {},
   "outputs": [],
   "source": [
    "lst1 = test1(25)"
   ]
  },
  {
   "cell_type": "code",
   "execution_count": 3,
   "id": "77ce4eeb-35a7-4295-89ec-dc0f0d077b48",
   "metadata": {},
   "outputs": [
    {
     "data": {
      "text/plain": [
       "[1, 3, 5, 7, 9, 11, 13, 15, 17, 19, 21, 23, 25]"
      ]
     },
     "execution_count": 3,
     "metadata": {},
     "output_type": "execute_result"
    }
   ],
   "source": [
    "lst1"
   ]
  },
  {
   "cell_type": "code",
   "execution_count": 4,
   "id": "5d063d24-8fe8-4561-bf15-88ac3f1ab03a",
   "metadata": {},
   "outputs": [],
   "source": [
    "# *args is used for passing indefinite number of parameters as a tuple to a function. It is used while writing function definition.\n",
    "# **kwargs is used for passing indefinite number of parameters as key-value pairs to a function. It is used while writing a function definition.\n",
    "\n",
    "def test2(*args):\n",
    "    \"\"\"Takes n values and returns addition of them\"\"\"\n",
    "    a = 0\n",
    "    for i in args:\n",
    "        a = a + i\n",
    "    return a\n",
    "\n",
    "def test3(**kwargs):\n",
    "    return kwargs.values()"
   ]
  },
  {
   "cell_type": "code",
   "execution_count": 5,
   "id": "ebd40918-573f-45b4-928c-9368f5f54670",
   "metadata": {},
   "outputs": [
    {
     "data": {
      "text/plain": [
       "(623, dict_values([22, 33, [123, 43, 54], 'sri']))"
      ]
     },
     "execution_count": 5,
     "metadata": {},
     "output_type": "execute_result"
    }
   ],
   "source": [
    "test2(23,34,566) , test3(a = 22, b = 33, c = [123,43,54], d = \"sri\")"
   ]
  },
  {
   "cell_type": "code",
   "execution_count": 6,
   "id": "e3e8051e-059d-4470-9ca6-7f8f5e957d22",
   "metadata": {},
   "outputs": [
    {
     "name": "stdout",
     "output_type": "stream",
     "text": [
      "<class 'str'>\n",
      "<class 'str_iterator'>\n"
     ]
    }
   ],
   "source": [
    "# an iterator is an object(iteraable) that allows value at next index be fetched by the next() function\n",
    "# for initialising a iterator object we use iter() method and for iterating we use next() method\n",
    "\n",
    "s = \"malayalam\"\n",
    "print(type(s))\n",
    "s1 = iter(s)\n",
    "print(type(s1))"
   ]
  },
  {
   "cell_type": "code",
   "execution_count": 7,
   "id": "9ee94073-c5b2-42fc-b540-6db29910a03d",
   "metadata": {},
   "outputs": [
    {
     "data": {
      "text/plain": [
       "'m'"
      ]
     },
     "execution_count": 7,
     "metadata": {},
     "output_type": "execute_result"
    }
   ],
   "source": [
    "next(s1)"
   ]
  },
  {
   "cell_type": "code",
   "execution_count": 8,
   "id": "f720f8c1-daf7-4326-873e-b4b167211420",
   "metadata": {},
   "outputs": [
    {
     "data": {
      "text/plain": [
       "'a'"
      ]
     },
     "execution_count": 8,
     "metadata": {},
     "output_type": "execute_result"
    }
   ],
   "source": [
    "next(s1)"
   ]
  },
  {
   "cell_type": "code",
   "execution_count": 9,
   "id": "7123f37d-4aeb-4bb0-a740-3b5813844d4f",
   "metadata": {},
   "outputs": [
    {
     "data": {
      "text/plain": [
       "'l'"
      ]
     },
     "execution_count": 9,
     "metadata": {},
     "output_type": "execute_result"
    }
   ],
   "source": [
    "next(s1)"
   ]
  },
  {
   "cell_type": "code",
   "execution_count": 10,
   "id": "717ad600-86fd-44a5-b62b-b645afacf535",
   "metadata": {},
   "outputs": [
    {
     "data": {
      "text/plain": [
       "[2, 4, 6, 8, 10, 12, 14, 16, 18, 20]"
      ]
     },
     "execution_count": 10,
     "metadata": {},
     "output_type": "execute_result"
    }
   ],
   "source": [
    "lst2 = list(range(2,22,2))\n",
    "lst2"
   ]
  },
  {
   "cell_type": "code",
   "execution_count": 11,
   "id": "b8a2e234-50c1-4326-a954-9257c1100971",
   "metadata": {},
   "outputs": [
    {
     "name": "stdout",
     "output_type": "stream",
     "text": [
      "2\n",
      "4\n",
      "6\n",
      "8\n",
      "10\n"
     ]
    }
   ],
   "source": [
    "itr1 = iter(lst2)\n",
    "for i in range(5):\n",
    "    print(next(itr1))"
   ]
  },
  {
   "cell_type": "code",
   "execution_count": 12,
   "id": "9160fa5f-e7e7-4248-85ae-b599c2649b20",
   "metadata": {},
   "outputs": [],
   "source": [
    "# genertor function as the name is used to make a function that genarates a pattern/sequence on the basis on given function definition.\n",
    "# yield is used for yielding value(s) continuosly out of function without terminating the function\n",
    "\n",
    "def test3(n):\n",
    "    \"\"\" generator function to generate square numbers \"\"\"\n",
    "    for i in range(1,n+1):\n",
    "        sq = i**2\n",
    "        yield sq"
   ]
  },
  {
   "cell_type": "code",
   "execution_count": 13,
   "id": "593a3457-d4f2-4528-87b4-c1048d09cafa",
   "metadata": {},
   "outputs": [
    {
     "name": "stdout",
     "output_type": "stream",
     "text": [
      "1\n",
      "4\n",
      "9\n",
      "16\n",
      "25\n",
      "36\n",
      "49\n",
      "64\n",
      "81\n",
      "100\n",
      "121\n",
      "144\n",
      "169\n",
      "196\n",
      "225\n",
      "256\n",
      "289\n",
      "324\n",
      "361\n",
      "400\n"
     ]
    }
   ],
   "source": [
    "for i in test3(20):\n",
    "    print(i)    "
   ]
  },
  {
   "cell_type": "code",
   "execution_count": 14,
   "id": "350c7893-9d93-425a-af58-b1f478ce5a86",
   "metadata": {},
   "outputs": [],
   "source": [
    "def test4():\n",
    "    \"\"\"genarates prime numbers\"\"\"\n",
    "    a = 2\n",
    "    while True:\n",
    "        is_prime = 1\n",
    "        for i in range(2,a//2+1):\n",
    "            if(a%i==0):\n",
    "                is_prime = 0\n",
    "                break\n",
    "        if is_prime == 1:\n",
    "            yield a\n",
    "        a = a + 1\n",
    "\n"
   ]
  },
  {
   "cell_type": "code",
   "execution_count": 15,
   "id": "e0a2280d-6304-4aa9-a51f-1f3b7e60c516",
   "metadata": {},
   "outputs": [
    {
     "data": {
      "text/plain": [
       "generator"
      ]
     },
     "execution_count": 15,
     "metadata": {},
     "output_type": "execute_result"
    }
   ],
   "source": [
    "test5 = test4()\n",
    "type(test5)"
   ]
  },
  {
   "cell_type": "code",
   "execution_count": 16,
   "id": "81bfd478-d3d0-4cce-a7c4-c68ba6606f62",
   "metadata": {},
   "outputs": [
    {
     "name": "stdout",
     "output_type": "stream",
     "text": [
      "2\n",
      "3\n",
      "5\n",
      "7\n",
      "11\n",
      "13\n",
      "17\n",
      "19\n",
      "23\n",
      "29\n",
      "31\n",
      "37\n",
      "41\n",
      "43\n",
      "47\n",
      "53\n",
      "59\n",
      "61\n",
      "67\n",
      "71\n"
     ]
    }
   ],
   "source": [
    "for i in range(20):\n",
    "    print(next(test5))"
   ]
  },
  {
   "cell_type": "code",
   "execution_count": 17,
   "id": "634e355e-e3f8-421c-8d67-861a3d0c7326",
   "metadata": {},
   "outputs": [],
   "source": [
    "def fib():\n",
    "    \"\"\"genarates fibonacci numbers\"\"\"\n",
    "    a,b = 0,1\n",
    "    while True:\n",
    "        yield a\n",
    "        a,b = b, a+b"
   ]
  },
  {
   "cell_type": "code",
   "execution_count": 18,
   "id": "c0c0dd8b-7030-44c8-bd16-72190ff69403",
   "metadata": {},
   "outputs": [],
   "source": [
    "test6 = fib()"
   ]
  },
  {
   "cell_type": "code",
   "execution_count": 19,
   "id": "98d42e48-fba0-4ad3-bfa1-354e0551e100",
   "metadata": {},
   "outputs": [
    {
     "data": {
      "text/plain": [
       "generator"
      ]
     },
     "execution_count": 19,
     "metadata": {},
     "output_type": "execute_result"
    }
   ],
   "source": [
    "type(test6)"
   ]
  },
  {
   "cell_type": "code",
   "execution_count": 20,
   "id": "b4bf7921-10b6-4dff-b7af-512f43c92ab8",
   "metadata": {},
   "outputs": [
    {
     "name": "stdout",
     "output_type": "stream",
     "text": [
      "0\n",
      "1\n",
      "1\n",
      "2\n",
      "3\n",
      "5\n",
      "8\n",
      "13\n",
      "21\n",
      "34\n"
     ]
    }
   ],
   "source": [
    "for i in range(10):\n",
    "    print(next(test6))"
   ]
  },
  {
   "cell_type": "code",
   "execution_count": 21,
   "id": "4f9a9cdf-5c60-4313-8fc4-6f44748075f8",
   "metadata": {},
   "outputs": [],
   "source": [
    "str1 = \"pwskills\"\n",
    "str2 = [x for x in str1] "
   ]
  },
  {
   "cell_type": "code",
   "execution_count": 22,
   "id": "bbda586b-c557-48f7-80f1-1a7dbe2d21cf",
   "metadata": {},
   "outputs": [
    {
     "data": {
      "text/plain": [
       "['p', 'w', 's', 'k', 'i', 'l', 'l', 's']"
      ]
     },
     "execution_count": 22,
     "metadata": {},
     "output_type": "execute_result"
    }
   ],
   "source": [
    "str2"
   ]
  },
  {
   "cell_type": "code",
   "execution_count": 23,
   "id": "ca1bb81e-5dc1-43b8-a0f7-a1bd015dd63b",
   "metadata": {},
   "outputs": [],
   "source": [
    "def pallindrome_check(a):\n",
    "    a = a.lower()\n",
    "    i = 0\n",
    "    j = len(a)-1\n",
    "    while(i<=j):\n",
    "        if (a[i] != a[j]):\n",
    "            return False\n",
    "        i=i+1\n",
    "        j=j-1\n",
    "    return True"
   ]
  },
  {
   "cell_type": "code",
   "execution_count": 24,
   "id": "135fde2d-a70c-473b-be29-59166f16743f",
   "metadata": {},
   "outputs": [
    {
     "data": {
      "text/plain": [
       "False"
      ]
     },
     "execution_count": 24,
     "metadata": {},
     "output_type": "execute_result"
    }
   ],
   "source": [
    "pallindrome_check(\"Aroray\")"
   ]
  },
  {
   "cell_type": "code",
   "execution_count": 25,
   "id": "78c96a40-48a5-4baa-9421-597992196a93",
   "metadata": {},
   "outputs": [],
   "source": [
    "# using comprehension list flitering out odd integers in 1 to 100\n",
    "lst1 = [x for x in range(1,101)]\n",
    "lst2 = [x for x in lst1 if x%2!=0]"
   ]
  },
  {
   "cell_type": "code",
   "execution_count": 26,
   "id": "7e183a68-6d75-490a-be59-db93b1b00e97",
   "metadata": {},
   "outputs": [
    {
     "data": {
      "text/plain": [
       "[1,\n",
       " 3,\n",
       " 5,\n",
       " 7,\n",
       " 9,\n",
       " 11,\n",
       " 13,\n",
       " 15,\n",
       " 17,\n",
       " 19,\n",
       " 21,\n",
       " 23,\n",
       " 25,\n",
       " 27,\n",
       " 29,\n",
       " 31,\n",
       " 33,\n",
       " 35,\n",
       " 37,\n",
       " 39,\n",
       " 41,\n",
       " 43,\n",
       " 45,\n",
       " 47,\n",
       " 49,\n",
       " 51,\n",
       " 53,\n",
       " 55,\n",
       " 57,\n",
       " 59,\n",
       " 61,\n",
       " 63,\n",
       " 65,\n",
       " 67,\n",
       " 69,\n",
       " 71,\n",
       " 73,\n",
       " 75,\n",
       " 77,\n",
       " 79,\n",
       " 81,\n",
       " 83,\n",
       " 85,\n",
       " 87,\n",
       " 89,\n",
       " 91,\n",
       " 93,\n",
       " 95,\n",
       " 97,\n",
       " 99]"
      ]
     },
     "execution_count": 26,
     "metadata": {},
     "output_type": "execute_result"
    }
   ],
   "source": [
    "lst2"
   ]
  },
  {
   "cell_type": "code",
   "execution_count": null,
   "id": "9f55fece-2899-4343-b124-54d0c205037a",
   "metadata": {},
   "outputs": [],
   "source": []
  }
 ],
 "metadata": {
  "kernelspec": {
   "display_name": "Python 3 (ipykernel)",
   "language": "python",
   "name": "python3"
  },
  "language_info": {
   "codemirror_mode": {
    "name": "ipython",
    "version": 3
   },
   "file_extension": ".py",
   "mimetype": "text/x-python",
   "name": "python",
   "nbconvert_exporter": "python",
   "pygments_lexer": "ipython3",
   "version": "3.10.8"
  }
 },
 "nbformat": 4,
 "nbformat_minor": 5
}
