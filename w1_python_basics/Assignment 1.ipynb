{
 "cells": [
  {
   "cell_type": "code",
   "execution_count": null,
   "id": "43450131-6b26-4cfe-b712-4ecb2b457a8e",
   "metadata": {},
   "outputs": [],
   "source": [
    "str1 = \"Sri Darsan Sah\"\n",
    "lst1 = [1,1.2,True,3+6j]\n",
    "flt1 = 23.44\n",
    "tup1 = (1,2.33,True,6+7j)"
   ]
  },
  {
   "cell_type": "code",
   "execution_count": 2,
   "id": "b6a11342-23cd-4ed8-92bf-32d7e9143d2e",
   "metadata": {},
   "outputs": [
    {
     "data": {
      "text/plain": [
       "('Sri Darsan Sah', [1, 1.2, True, (3+6j)], 23.44, (1, 2.33, True, (6+7j)))"
      ]
     },
     "execution_count": 2,
     "metadata": {},
     "output_type": "execute_result"
    }
   ],
   "source": [
    "str1,lst1,flt1,tup1"
   ]
  },
  {
   "cell_type": "code",
   "execution_count": 6,
   "id": "f4ffa8f2-93af-4ef2-bb56-0c1a58db8dcd",
   "metadata": {},
   "outputs": [],
   "source": [
    "var1 = '' #str\n",
    "var2 = '[DS,ML,Python]' #str\n",
    "var3 = ['DS','ML','Python'] #list\n",
    "var4 = 1 #int"
   ]
  },
  {
   "cell_type": "code",
   "execution_count": 7,
   "id": "79503278-1ed1-4448-a9f6-4567e827d2a0",
   "metadata": {},
   "outputs": [
    {
     "data": {
      "text/plain": [
       "(str, str, list, list)"
      ]
     },
     "execution_count": 7,
     "metadata": {},
     "output_type": "execute_result"
    }
   ],
   "source": [
    "type(var1), type(var2), type(var3), type(var3)"
   ]
  },
  {
   "cell_type": "code",
   "execution_count": 12,
   "id": "c2700f4d-c016-40bc-82cd-092d50d20b99",
   "metadata": {},
   "outputs": [],
   "source": [
    "num1 = 100\n",
    "num2 = 2"
   ]
  },
  {
   "cell_type": "code",
   "execution_count": 13,
   "id": "b2298a7d-0ac8-4efc-8a69-47e392df6461",
   "metadata": {},
   "outputs": [
    {
     "data": {
      "text/plain": [
       "(50.0, 0, 50, 10000)"
      ]
     },
     "execution_count": 13,
     "metadata": {},
     "output_type": "execute_result"
    }
   ],
   "source": [
    "num1/num2 #division operator returns floating point value after operation\n",
    "num1%num2 #modulus operator returns remainder\n",
    "num1//num2 #floor division operator\n",
    "num1**num2 #power operator"
   ]
  },
  {
   "cell_type": "code",
   "execution_count": 16,
   "id": "dfa16651-4429-457f-b24e-9004159e6e6c",
   "metadata": {},
   "outputs": [
    {
     "name": "stdout",
     "output_type": "stream",
     "text": [
      "11 <class 'int'>\n",
      "22.2 <class 'float'>\n",
      "True <class 'bool'>\n",
      "(6+6j) <class 'complex'>\n",
      "See Saw <class 'str'>\n",
      "[22, 33, 54, 87, 'Student'] <class 'list'>\n",
      "(1, 2, 34) <class 'tuple'>\n",
      "{32, 43, 'sri', 22} <class 'set'>\n",
      "{1: 'Sri', 2: 'male', 3: '17/03/03'} <class 'dict'>\n",
      "range(1, 10) <class 'range'>\n"
     ]
    }
   ],
   "source": [
    "lst2 = [11,22.2, True, 6+6j, 'See Saw', [22,33,54,87,'Student'],(1,2,34),{22,32,43,\"sri\"},{1:'Sri',2:'male',3:'17/03/03'},range(1,10)]\n",
    "for i in lst2:\n",
    "    print(i,type(i))"
   ]
  },
  {
   "cell_type": "code",
   "execution_count": 27,
   "id": "34469ee9-7bfc-4fee-a970-36e13db458cf",
   "metadata": {},
   "outputs": [
    {
     "name": "stdin",
     "output_type": "stream",
     "text": [
      "Enter first nnumber 29\n",
      "Enter second number 7\n"
     ]
    },
    {
     "name": "stdout",
     "output_type": "stream",
     "text": [
      "29 is not divisible by 7\n"
     ]
    }
   ],
   "source": [
    "A = int(input('Enter first nnumber'))\n",
    "B = int(input('Enter second number'))\n",
    "count = 0\n",
    "A_copy = A\n",
    "while(A%B==0):\n",
    "    count = count + 1\n",
    "    A = A/B\n",
    "if (count>0):\n",
    "    print(A_copy,'is purely divisble by',B)\n",
    "    print('No of times divisible =',count)\n",
    "else:\n",
    "    print(A_copy,'is not divisible by',B)"
   ]
  },
  {
   "cell_type": "code",
   "execution_count": 31,
   "id": "cbada8d0-4f99-406f-a81c-f7027376dc6e",
   "metadata": {},
   "outputs": [
    {
     "name": "stdout",
     "output_type": "stream",
     "text": [
      "0 is divisible by 3\n",
      "1 is not divisible by 3\n",
      "2 is not divisible by 3\n",
      "3 is divisible by 3\n",
      "4 is not divisible by 3\n",
      "5 is not divisible by 3\n",
      "6 is divisible by 3\n",
      "7 is not divisible by 3\n",
      "8 is not divisible by 3\n",
      "9 is divisible by 3\n",
      "10 is not divisible by 3\n",
      "11 is not divisible by 3\n",
      "12 is divisible by 3\n",
      "13 is not divisible by 3\n",
      "14 is not divisible by 3\n",
      "15 is divisible by 3\n",
      "16 is not divisible by 3\n",
      "17 is not divisible by 3\n",
      "18 is divisible by 3\n",
      "19 is not divisible by 3\n",
      "20 is not divisible by 3\n",
      "21 is divisible by 3\n",
      "22 is not divisible by 3\n",
      "23 is not divisible by 3\n",
      "24 is divisible by 3\n"
     ]
    }
   ],
   "source": [
    "lst3 = list(range(0,25))\n",
    "for i in lst3:\n",
    "    if (i%3==0):\n",
    "        print(i,'is divisible by 3')\n",
    "    else:\n",
    "        print(i,'is not divisible by 3')"
   ]
  },
  {
   "cell_type": "code",
   "execution_count": 40,
   "id": "ad5e6070-ab26-4b33-a78c-ce920a10d2e7",
   "metadata": {},
   "outputs": [],
   "source": [
    "str2 = 'Sri Darsan Sah' #immutable data type\n",
    "lst4 = list(str2) #mutable data type"
   ]
  },
  {
   "cell_type": "code",
   "execution_count": 41,
   "id": "92a97727-ba56-4a41-af5c-e4abce620a69",
   "metadata": {},
   "outputs": [
    {
     "name": "stdout",
     "output_type": "stream",
     "text": [
      "S\n",
      "p\n"
     ]
    }
   ],
   "source": [
    "print(lst4[0])\n",
    "lst4[0] = 'p'\n",
    "print(lst4[0])\n",
    "#mutable data type allow changing value at indexed position"
   ]
  },
  {
   "cell_type": "code",
   "execution_count": 43,
   "id": "91999fc9-7847-4bb6-ae00-29579949dc25",
   "metadata": {},
   "outputs": [
    {
     "ename": "TypeError",
     "evalue": "'str' object does not support item assignment",
     "output_type": "error",
     "traceback": [
      "\u001b[0;31m---------------------------------------------------------------------------\u001b[0m",
      "\u001b[0;31mTypeError\u001b[0m                                 Traceback (most recent call last)",
      "Cell \u001b[0;32mIn[43], line 2\u001b[0m\n\u001b[1;32m      1\u001b[0m str2[\u001b[38;5;241m0\u001b[39m]\n\u001b[0;32m----> 2\u001b[0m \u001b[43mstr2\u001b[49m\u001b[43m[\u001b[49m\u001b[38;5;241;43m0\u001b[39;49m\u001b[43m]\u001b[49m \u001b[38;5;241m=\u001b[39m \u001b[38;5;124m'\u001b[39m\u001b[38;5;124mp\u001b[39m\u001b[38;5;124m'\u001b[39m\n",
      "\u001b[0;31mTypeError\u001b[0m: 'str' object does not support item assignment"
     ]
    }
   ],
   "source": [
    "str2[0]\n",
    "str2[0] = 'p'\n",
    "#immutable data type don't allow changing of value at indexed position"
   ]
  },
  {
   "cell_type": "code",
   "execution_count": null,
   "id": "a64a6475-1df9-41c1-afe6-5349c728e3ec",
   "metadata": {},
   "outputs": [],
   "source": []
  }
 ],
 "metadata": {
  "kernelspec": {
   "display_name": "Python 3 (ipykernel)",
   "language": "python",
   "name": "python3"
  },
  "language_info": {
   "codemirror_mode": {
    "name": "ipython",
    "version": 3
   },
   "file_extension": ".py",
   "mimetype": "text/x-python",
   "name": "python",
   "nbconvert_exporter": "python",
   "pygments_lexer": "ipython3",
   "version": "3.10.8"
  }
 },
 "nbformat": 4,
 "nbformat_minor": 5
}
