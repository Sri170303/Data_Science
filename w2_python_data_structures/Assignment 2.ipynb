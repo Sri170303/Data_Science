{
 "cells": [
  {
   "cell_type": "code",
   "execution_count": 3,
   "id": "4c896414-9e71-4045-aca9-5f045ac66bfe",
   "metadata": {},
   "outputs": [
    {
     "data": {
      "text/plain": [
       "\" To add multi line comment we can use this method.\\n    ALthough we can use '#' symbol for the same too.\\n    We just have to add '#' symbol in front of each line to make it a comment\""
      ]
     },
     "execution_count": 3,
     "metadata": {},
     "output_type": "execute_result"
    }
   ],
   "source": [
    "# Comments are of two type\n",
    "# Single line comment can be added by this way\n",
    "\"\"\" To add multi line comment we can use this method.\n",
    "    ALthough we can use '#' symbol for the same too.\n",
    "    We just have to add '#' symbol in front of each line to make it a comment\"\"\""
   ]
  },
  {
   "cell_type": "code",
   "execution_count": 4,
   "id": "611ba5db-e84d-42d9-909b-54a9d959aa03",
   "metadata": {},
   "outputs": [],
   "source": [
    "# variables are names assigned to storage locations\n",
    "# declaration of variables and assignment is done by following the syntax used below\n",
    "a = 22\n",
    "b = 33.43\n"
   ]
  },
  {
   "cell_type": "code",
   "execution_count": 5,
   "id": "0772f87f-5449-4529-b79c-37e4c7ddb11f",
   "metadata": {},
   "outputs": [],
   "source": [
    "# we can convert one data type to other if it is permissible by using the following syntax\n",
    "# same way is employed whenever we have to convert a data type to another\n",
    "a = 22\n",
    "a = float(a)"
   ]
  },
  {
   "cell_type": "code",
   "execution_count": 7,
   "id": "08adf287-584c-4114-96e3-fb299dee845d",
   "metadata": {},
   "outputs": [],
   "source": [
    "# To run a python script in command line we need to do the following\n",
    "# 1. Install python interpreter and ensure that the environment variable has path set to the directory where python is stored\n",
    "# 2. Write our python code in a text editor(notepad) and save it with .py extension\n",
    "# 3. Open command prompt and move to the directory where our script is stored and run it using 'py <sciptName>.py' format"
   ]
  },
  {
   "cell_type": "code",
   "execution_count": 10,
   "id": "d6640e63-3343-4977-b3b9-e23960f4b49a",
   "metadata": {},
   "outputs": [
    {
     "data": {
      "text/plain": [
       "[2, 3]"
      ]
     },
     "execution_count": 10,
     "metadata": {},
     "output_type": "execute_result"
    }
   ],
   "source": [
    "my_list = [1,2,3,4,5]\n",
    "my_list[1:3]"
   ]
  },
  {
   "cell_type": "code",
   "execution_count": 12,
   "id": "6b3336a2-f9c1-4523-a81e-132aa90affe1",
   "metadata": {},
   "outputs": [
    {
     "data": {
      "text/plain": [
       "(12+6j)"
      ]
     },
     "execution_count": 12,
     "metadata": {},
     "output_type": "execute_result"
    }
   ],
   "source": [
    "# complex number are of the form a + ib where a,b are real numbers and i = (-1)½ \n",
    "# there stored in following way in python\n",
    "z = 12 + 6j\n",
    "z"
   ]
  },
  {
   "cell_type": "code",
   "execution_count": 13,
   "id": "ae39ba65-ad92-4a08-ab3f-e73085c56f0d",
   "metadata": {},
   "outputs": [],
   "source": [
    "# declaring a varible and assigning value 25 to it\n",
    "a = 25"
   ]
  },
  {
   "cell_type": "code",
   "execution_count": 14,
   "id": "ec58e138-239b-4a8f-9688-cc2b694def8b",
   "metadata": {},
   "outputs": [
    {
     "data": {
      "text/plain": [
       "float"
      ]
     },
     "execution_count": 14,
     "metadata": {},
     "output_type": "execute_result"
    }
   ],
   "source": [
    "# declaring a variable and assigning 9.99 to it\n",
    "b = 9.99\n",
    "# to check data type of variable b\n",
    "type(b)"
   ]
  },
  {
   "cell_type": "code",
   "execution_count": 15,
   "id": "4b987493-8c47-4f1f-be6b-79d5d640fc10",
   "metadata": {},
   "outputs": [
    {
     "name": "stdout",
     "output_type": "stream",
     "text": [
      "Sri Darsan Sah\n"
     ]
    }
   ],
   "source": [
    "# creating a variable name and assigning my name to it\n",
    "name = \"Sri Darsan Sah\"\n",
    "# to print the value of this variable\n",
    "print(name)"
   ]
  },
  {
   "cell_type": "code",
   "execution_count": 20,
   "id": "dfeb5b84-03e9-48af-bd02-a45b99a2dfd2",
   "metadata": {},
   "outputs": [
    {
     "data": {
      "text/plain": [
       "'World'"
      ]
     },
     "execution_count": 20,
     "metadata": {},
     "output_type": "execute_result"
    }
   ],
   "source": [
    "# given string \"Hello, World!\"\n",
    "str1 = \"Hello, World!\"\n",
    "# extracting world from the string\n",
    "str1[str1.find(\"W\"):str1.find(\"!\"):]"
   ]
  },
  {
   "cell_type": "code",
   "execution_count": 21,
   "id": "3903a075-b424-423a-b141-c79514bf8262",
   "metadata": {},
   "outputs": [],
   "source": [
    "# creating a boolean varible is_student\n",
    "is_student = True"
   ]
  },
  {
   "cell_type": "code",
   "execution_count": null,
   "id": "606f130e-f54b-485b-87fd-728c8be7c922",
   "metadata": {},
   "outputs": [],
   "source": []
  }
 ],
 "metadata": {
  "kernelspec": {
   "display_name": "Python 3 (ipykernel)",
   "language": "python",
   "name": "python3"
  },
  "language_info": {
   "codemirror_mode": {
    "name": "ipython",
    "version": 3
   },
   "file_extension": ".py",
   "mimetype": "text/x-python",
   "name": "python",
   "nbconvert_exporter": "python",
   "pygments_lexer": "ipython3",
   "version": "3.10.8"
  }
 },
 "nbformat": 4,
 "nbformat_minor": 5
}
